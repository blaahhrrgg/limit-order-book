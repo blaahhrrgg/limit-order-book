{
 "cells": [
  {
   "cell_type": "code",
   "execution_count": 1,
   "id": "4e536f5e-bf4e-43ba-8a0f-075d698e5f73",
   "metadata": {},
   "outputs": [],
   "source": [
    "import pandas\n",
    "import numpy\n",
    "import timeit\n",
    "\n",
    "from limit_order_book import (\n",
    "    LimitOrder,\n",
    "    Direction,\n",
    "    ArrayDequeLimitOrderBook,\n",
    "    HashDequeLimitOrderBook,\n",
    "    BalancedTreeDequeLimitOrderBook,\n",
    "    load_msft_orders,\n",
    ")\n",
    "\n",
    "import matplotlib.pyplot as plt\n",
    "import seaborn as sns\n",
    "\n",
    "import warnings\n",
    "warnings.simplefilter(action='ignore', category=FutureWarning)"
   ]
  },
  {
   "cell_type": "markdown",
   "id": "d51c80f2-2cff-442f-b3b8-cf8daf54001b",
   "metadata": {},
   "source": [
    "### Context\n",
    "\n",
    "We benchmark different limit order book implementations using a sample limit orders. We do not consider order amendments or cancellations in this study."
   ]
  },
  {
   "cell_type": "markdown",
   "id": "f0d22aca-fdd1-4243-93aa-d90bdab4be3f",
   "metadata": {},
   "source": [
    "### Load test data"
   ]
  },
  {
   "cell_type": "code",
   "execution_count": 2,
   "id": "a0f732c0-2e57-489f-b226-b57bded3db12",
   "metadata": {},
   "outputs": [],
   "source": [
    "df_orders = (\n",
    "    load_msft_orders()\n",
    "    # We only consider new limit orders\n",
    "    .loc[lambda x: x[\"Type\"].isin([1])]\n",
    "    .assign(\n",
    "        Direction=lambda x: x[\"Direction\"].map(\n",
    "            {\n",
    "                -1: Direction.Sell,\n",
    "                1: Direction.Buy\n",
    "            }\n",
    "        )\n",
    "    )\n",
    ")"
   ]
  },
  {
   "cell_type": "code",
   "execution_count": 3,
   "id": "a99961f0-b99e-4c78-a444-4a674e20a053",
   "metadata": {},
   "outputs": [
    {
     "data": {
      "text/html": [
       "<div>\n",
       "<style scoped>\n",
       "    .dataframe tbody tr th:only-of-type {\n",
       "        vertical-align: middle;\n",
       "    }\n",
       "\n",
       "    .dataframe tbody tr th {\n",
       "        vertical-align: top;\n",
       "    }\n",
       "\n",
       "    .dataframe thead th {\n",
       "        text-align: right;\n",
       "    }\n",
       "</style>\n",
       "<table border=\"1\" class=\"dataframe\">\n",
       "  <thead>\n",
       "    <tr style=\"text-align: right;\">\n",
       "      <th></th>\n",
       "      <th>Time</th>\n",
       "      <th>Type</th>\n",
       "      <th>OrderID</th>\n",
       "      <th>Size</th>\n",
       "      <th>Price</th>\n",
       "      <th>Direction</th>\n",
       "    </tr>\n",
       "  </thead>\n",
       "  <tbody>\n",
       "    <tr>\n",
       "      <th>1</th>\n",
       "      <td>34200.013994</td>\n",
       "      <td>1</td>\n",
       "      <td>16116348</td>\n",
       "      <td>100</td>\n",
       "      <td>310500</td>\n",
       "      <td>Direction.Sell</td>\n",
       "    </tr>\n",
       "    <tr>\n",
       "      <th>2</th>\n",
       "      <td>34200.015248</td>\n",
       "      <td>1</td>\n",
       "      <td>16116658</td>\n",
       "      <td>100</td>\n",
       "      <td>310400</td>\n",
       "      <td>Direction.Sell</td>\n",
       "    </tr>\n",
       "    <tr>\n",
       "      <th>3</th>\n",
       "      <td>34200.015442</td>\n",
       "      <td>1</td>\n",
       "      <td>16116704</td>\n",
       "      <td>100</td>\n",
       "      <td>310500</td>\n",
       "      <td>Direction.Sell</td>\n",
       "    </tr>\n",
       "    <tr>\n",
       "      <th>4</th>\n",
       "      <td>34200.015789</td>\n",
       "      <td>1</td>\n",
       "      <td>16116752</td>\n",
       "      <td>100</td>\n",
       "      <td>310600</td>\n",
       "      <td>Direction.Sell</td>\n",
       "    </tr>\n",
       "    <tr>\n",
       "      <th>5</th>\n",
       "      <td>34200.016300</td>\n",
       "      <td>1</td>\n",
       "      <td>16116815</td>\n",
       "      <td>100</td>\n",
       "      <td>310700</td>\n",
       "      <td>Direction.Sell</td>\n",
       "    </tr>\n",
       "  </tbody>\n",
       "</table>\n",
       "</div>"
      ],
      "text/plain": [
       "           Time  Type   OrderID  Size   Price       Direction\n",
       "1  34200.013994     1  16116348   100  310500  Direction.Sell\n",
       "2  34200.015248     1  16116658   100  310400  Direction.Sell\n",
       "3  34200.015442     1  16116704   100  310500  Direction.Sell\n",
       "4  34200.015789     1  16116752   100  310600  Direction.Sell\n",
       "5  34200.016300     1  16116815   100  310700  Direction.Sell"
      ]
     },
     "execution_count": 3,
     "metadata": {},
     "output_type": "execute_result"
    }
   ],
   "source": [
    "df_orders.head()"
   ]
  },
  {
   "cell_type": "code",
   "execution_count": 4,
   "id": "88aef5c5-e0b9-49e2-af67-c7a62f6f4cfe",
   "metadata": {},
   "outputs": [],
   "source": [
    "orders = [\n",
    "    LimitOrder(\n",
    "        id=order[\"OrderID\"],\n",
    "        trader_id=1,\n",
    "        direction=order[\"Direction\"],\n",
    "        quantity=order[\"Size\"],\n",
    "        price=order[\"Price\"],\n",
    "    )\n",
    "    for _, order in df_orders.iterrows()\n",
    "]"
   ]
  },
  {
   "cell_type": "code",
   "execution_count": 5,
   "id": "927dcbeb-e46d-4533-b94e-bd3b4ab2410d",
   "metadata": {},
   "outputs": [],
   "source": [
    "max_price = df_orders[\"Price\"].max() + 1"
   ]
  },
  {
   "cell_type": "code",
   "execution_count": 6,
   "id": "5397d06f-3e30-42a6-bcbb-2608e7eafb71",
   "metadata": {},
   "outputs": [],
   "source": [
    "n_orders = len(df_orders)"
   ]
  },
  {
   "cell_type": "code",
   "execution_count": 7,
   "id": "7e8c81f3-a96d-4ef2-b3af-a767f3b660e6",
   "metadata": {},
   "outputs": [
    {
     "data": {
      "text/plain": [
       "69946"
      ]
     },
     "execution_count": 7,
     "metadata": {},
     "output_type": "execute_result"
    }
   ],
   "source": [
    "n_orders"
   ]
  },
  {
   "cell_type": "markdown",
   "id": "5a3b6935-90f8-4262-aae3-347620160783",
   "metadata": {},
   "source": [
    "### Benchmark\n",
    "\n",
    "We will benchmark adding the 69946 orders to the order book."
   ]
  },
  {
   "cell_type": "code",
   "execution_count": 8,
   "id": "c004350a-172d-489b-8c2b-adb4a9aec2f3",
   "metadata": {},
   "outputs": [],
   "source": [
    "def benchmark(limit_order_book, orders):\n",
    "    \"\"\"Method to benchmark\"\"\"\n",
    "    for order in orders:\n",
    "        limit_order_book.add(order)"
   ]
  },
  {
   "cell_type": "code",
   "execution_count": 9,
   "id": "b6f2fcb5-4f9d-4003-87df-2a868777da70",
   "metadata": {},
   "outputs": [],
   "source": [
    "lobs = {\n",
    "    \"ArrayDeque\": ArrayDequeLimitOrderBook,\n",
    "    \"HashDeque\": HashDequeLimitOrderBook,\n",
    "    \"BalancedTreeDeque\": BalancedTreeDequeLimitOrderBook,\n",
    "}\n",
    "\n",
    "out = {}\n",
    "\n",
    "n_loops = 64\n",
    "\n",
    "for name, lob in lobs.items():\n",
    "\n",
    "    # Instantiate LOB\n",
    "    l = lob(name=\"MSFT\", max_price=max_price)\n",
    "\n",
    "    # Time benchmark method\n",
    "    for _ in range(n_loops):\n",
    "        out.setdefault(name, []).append(\n",
    "            timeit.timeit('benchmark(l, orders)', globals=globals(), number=1)\n",
    "        )\n",
    "\n",
    "df_benchmark = pandas.DataFrame(out)"
   ]
  },
  {
   "cell_type": "code",
   "execution_count": 10,
   "id": "2fb2631c-e178-43a8-a45d-d28884a2ff78",
   "metadata": {},
   "outputs": [],
   "source": [
    "# Divide by number of orders, express in micro seconds\n",
    "df_per_order_micro = (df_benchmark / n_orders) * 1e6"
   ]
  },
  {
   "cell_type": "code",
   "execution_count": 11,
   "id": "0cceba60-8d1d-4e83-af24-ff91f2f43b67",
   "metadata": {},
   "outputs": [
    {
     "data": {
      "image/png": "[encoded data removed]",
      "text/plain": [
       "<Figure size 640x480 with 1 Axes>"
      ]
     },
     "metadata": {},
     "output_type": "display_data"
    }
   ],
   "source": [
    "f = sns.kdeplot(df_per_order_micro)\n",
    "\n",
    "f.set_xlabel(\"Latency - Time per Order (µs)\");"
   ]
  },
  {
   "cell_type": "code",
   "execution_count": 12,
   "id": "f0f90782-d483-497e-a988-934857b1ef22",
   "metadata": {},
   "outputs": [
    {
     "data": {
      "text/html": [
       "<div>\n",
       "<style scoped>\n",
       "    .dataframe tbody tr th:only-of-type {\n",
       "        vertical-align: middle;\n",
       "    }\n",
       "\n",
       "    .dataframe tbody tr th {\n",
       "        vertical-align: top;\n",
       "    }\n",
       "\n",
       "    .dataframe thead th {\n",
       "        text-align: right;\n",
       "    }\n",
       "</style>\n",
       "<table border=\"1\" class=\"dataframe\">\n",
       "  <thead>\n",
       "    <tr style=\"text-align: right;\">\n",
       "      <th></th>\n",
       "      <th>ArrayDeque</th>\n",
       "      <th>HashDeque</th>\n",
       "      <th>BalancedTreeDeque</th>\n",
       "    </tr>\n",
       "  </thead>\n",
       "  <tbody>\n",
       "    <tr>\n",
       "      <th>count</th>\n",
       "      <td>64.000000</td>\n",
       "      <td>64.000000</td>\n",
       "      <td>64.000000</td>\n",
       "    </tr>\n",
       "    <tr>\n",
       "      <th>mean</th>\n",
       "      <td>2.011661</td>\n",
       "      <td>2.965061</td>\n",
       "      <td>4.015956</td>\n",
       "    </tr>\n",
       "    <tr>\n",
       "      <th>std</th>\n",
       "      <td>0.481323</td>\n",
       "      <td>0.239310</td>\n",
       "      <td>0.638616</td>\n",
       "    </tr>\n",
       "    <tr>\n",
       "      <th>min</th>\n",
       "      <td>1.637116</td>\n",
       "      <td>2.719259</td>\n",
       "      <td>3.440952</td>\n",
       "    </tr>\n",
       "    <tr>\n",
       "      <th>25%</th>\n",
       "      <td>1.744525</td>\n",
       "      <td>2.831596</td>\n",
       "      <td>3.574672</td>\n",
       "    </tr>\n",
       "    <tr>\n",
       "      <th>50%</th>\n",
       "      <td>1.814236</td>\n",
       "      <td>2.885749</td>\n",
       "      <td>3.796478</td>\n",
       "    </tr>\n",
       "    <tr>\n",
       "      <th>75%</th>\n",
       "      <td>1.917887</td>\n",
       "      <td>3.105022</td>\n",
       "      <td>4.236837</td>\n",
       "    </tr>\n",
       "    <tr>\n",
       "      <th>max</th>\n",
       "      <td>3.376220</td>\n",
       "      <td>4.197317</td>\n",
       "      <td>7.021685</td>\n",
       "    </tr>\n",
       "  </tbody>\n",
       "</table>\n",
       "</div>"
      ],
      "text/plain": [
       "       ArrayDeque  HashDeque  BalancedTreeDeque\n",
       "count   64.000000  64.000000          64.000000\n",
       "mean     2.011661   2.965061           4.015956\n",
       "std      0.481323   0.239310           0.638616\n",
       "min      1.637116   2.719259           3.440952\n",
       "25%      1.744525   2.831596           3.574672\n",
       "50%      1.814236   2.885749           3.796478\n",
       "75%      1.917887   3.105022           4.236837\n",
       "max      3.376220   4.197317           7.021685"
      ]
     },
     "execution_count": 12,
     "metadata": {},
     "output_type": "execute_result"
    }
   ],
   "source": [
    "df_per_order_micro.describe()"
   ]
  }
 ],
 "metadata": {
  "kernelspec": {
   "display_name": "Python 3 (ipykernel)",
   "language": "python",
   "name": "python3"
  },
  "language_info": {
   "codemirror_mode": {
    "name": "ipython",
    "version": 3
   },
   "file_extension": ".py",
   "mimetype": "text/x-python",
   "name": "python",
   "nbconvert_exporter": "python",
   "pygments_lexer": "ipython3",
   "version": "3.11.5"
  }
 },
 "nbformat": 4,
 "nbformat_minor": 5
}
